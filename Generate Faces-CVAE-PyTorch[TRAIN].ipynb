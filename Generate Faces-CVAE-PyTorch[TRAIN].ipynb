{
 "cells": [
  {
   "cell_type": "markdown",
   "metadata": {},
   "source": [
    "# Generating Faces with CVAE in PyTorch [TRAIN]"
   ]
  },
  {
   "cell_type": "code",
   "execution_count": 1,
   "metadata": {},
   "outputs": [],
   "source": [
    "import torch\n",
    "import torch.nn as nn\n",
    "import torch.nn.functional as F\n",
    "import torch.optim as optim\n",
    "from torch.autograd import Variable\n",
    "\n",
    "from torchvision import datasets, transforms, models\n",
    "import torchvision.transforms as transforms\n",
    "from torch.utils.data import Dataset, random_split, DataLoader\n",
    "from torchvision.utils import save_image\n",
    "\n",
    "from torchsummary import summary\n",
    "\n",
    "import numpy as np\n",
    "import pandas as pd\n",
    "import matplotlib.pyplot as plt\n",
    "\n",
    "import os\n",
    "import math\n",
    "from PIL import Image\n",
    "from IPython.display import display\n",
    "import glob"
   ]
  },
  {
   "cell_type": "code",
   "execution_count": 2,
   "metadata": {},
   "outputs": [
    {
     "name": "stdout",
     "output_type": "stream",
     "text": [
      "cuda\n"
     ]
    }
   ],
   "source": [
    "device = torch.device(\"cuda\" if torch.cuda.is_available() else \"cpu\")\n",
    "print(device)"
   ]
  },
  {
   "cell_type": "code",
   "execution_count": 3,
   "metadata": {},
   "outputs": [],
   "source": [
    "transformObj = transforms.Compose([\n",
    "    transforms.Resize(64),\n",
    "    transforms.CenterCrop(64),\n",
    "    transforms.ToTensor(),\n",
    "])"
   ]
  },
  {
   "cell_type": "code",
   "execution_count": 4,
   "metadata": {},
   "outputs": [],
   "source": [
    "dataroot = \"./celeba/\"\n",
    "\n",
    "dataset = datasets.ImageFolder(root=dataroot, transform=transformObj)\n",
    "\n",
    "dataloader = torch.utils.data.DataLoader(dataset, batch_size=16, shuffle=True)"
   ]
  },
  {
   "cell_type": "code",
   "execution_count": 5,
   "metadata": {},
   "outputs": [],
   "source": [
    "class VAE(nn.Module):\n",
    "    def __init__(self, latent_size=100):\n",
    "        super(VAE, self).__init__()\n",
    "        \n",
    "        self.latent_size = latent_size\n",
    "        \n",
    "        self.l1 = nn.Conv2d(in_channels=3, out_channels=32, kernel_size=4, stride=2, padding=1)\n",
    "        self.l1b = nn.BatchNorm2d(32)\n",
    "        self.l2 = nn.Conv2d(in_channels=32, out_channels=64, kernel_size=4, stride=2, padding=1)\n",
    "        self.l2b = nn.BatchNorm2d(64)\n",
    "        self.l3 = nn.Conv2d(in_channels=64, out_channels=128, kernel_size=4, stride=2, padding=1)\n",
    "        self.l3b = nn.BatchNorm2d(128)\n",
    "        self.l4 = nn.Conv2d(in_channels=128, out_channels=256, kernel_size=4, stride=2, padding=1)\n",
    "        self.l4b = nn.BatchNorm2d(256)\n",
    "        \n",
    "        self.l41 = nn.Linear(256*4*4, self.latent_size)\n",
    "        self.l42 = nn.Linear(256*4*4, self.latent_size)\n",
    "        \n",
    "        self.f = nn.Linear(self.latent_size, 256*4*4)\n",
    "        \n",
    "        self.l5 = nn.ConvTranspose2d(in_channels=256, out_channels=128, kernel_size=4, stride=2, padding=1)\n",
    "        self.l6 = nn.ConvTranspose2d(in_channels=128, out_channels=64, kernel_size=4, stride=2, padding=1)\n",
    "        self.l7 = nn.ConvTranspose2d(in_channels=64, out_channels=32, kernel_size=4, stride=2, padding=1)\n",
    "        self.l8 = nn.ConvTranspose2d(in_channels=32, out_channels=3, kernel_size=4, stride=2, padding=1)\n",
    "        \n",
    "    def encoder(self, x_in):\n",
    "        h = F.leaky_relu(self.l1b(self.l1(x_in)))\n",
    "        h = F.leaky_relu(self.l2b(self.l2(h)))\n",
    "        h = F.leaky_relu(self.l3b(self.l3(h)))\n",
    "        h = F.leaky_relu(self.l4b(self.l4(h)))\n",
    "        \n",
    "        h = h.view(h.size(0), -1)\n",
    "        \n",
    "        return self.l41(h), self.l42(h)\n",
    "    \n",
    "    def decoder(self, z):\n",
    "        z = self.f(z)\n",
    "        z = z.view(-1, 256, 4, 4)\n",
    "        \n",
    "        z = F.leaky_relu(self.l5(z))\n",
    "        z = F.leaky_relu(self.l6(z))\n",
    "        z = F.leaky_relu(self.l7(z))\n",
    "        z = torch.sigmoid(self.l8(z))\n",
    "        \n",
    "        return z\n",
    "    \n",
    "    def sampling(self, mu, log_var):\n",
    "        std = torch.exp(0.5*log_var)\n",
    "        eps = torch.randn_like(std)\n",
    "        return torch.add(eps.mul(std), mu)\n",
    "    \n",
    "    def forward(self, x_in):\n",
    "        mu, log_var = self.encoder(x_in)\n",
    "        z = self.sampling(mu, log_var)\n",
    "        return self.decoder(z), mu, log_var"
   ]
  },
  {
   "cell_type": "code",
   "execution_count": 6,
   "metadata": {},
   "outputs": [
    {
     "data": {
      "text/plain": [
       "VAE(\n",
       "  (l1): Conv2d(3, 32, kernel_size=(4, 4), stride=(2, 2), padding=(1, 1))\n",
       "  (l1b): BatchNorm2d(32, eps=1e-05, momentum=0.1, affine=True, track_running_stats=True)\n",
       "  (l2): Conv2d(32, 64, kernel_size=(4, 4), stride=(2, 2), padding=(1, 1))\n",
       "  (l2b): BatchNorm2d(64, eps=1e-05, momentum=0.1, affine=True, track_running_stats=True)\n",
       "  (l3): Conv2d(64, 128, kernel_size=(4, 4), stride=(2, 2), padding=(1, 1))\n",
       "  (l3b): BatchNorm2d(128, eps=1e-05, momentum=0.1, affine=True, track_running_stats=True)\n",
       "  (l4): Conv2d(128, 256, kernel_size=(4, 4), stride=(2, 2), padding=(1, 1))\n",
       "  (l4b): BatchNorm2d(256, eps=1e-05, momentum=0.1, affine=True, track_running_stats=True)\n",
       "  (l41): Linear(in_features=4096, out_features=100, bias=True)\n",
       "  (l42): Linear(in_features=4096, out_features=100, bias=True)\n",
       "  (f): Linear(in_features=100, out_features=4096, bias=True)\n",
       "  (l5): ConvTranspose2d(256, 128, kernel_size=(4, 4), stride=(2, 2), padding=(1, 1))\n",
       "  (l6): ConvTranspose2d(128, 64, kernel_size=(4, 4), stride=(2, 2), padding=(1, 1))\n",
       "  (l7): ConvTranspose2d(64, 32, kernel_size=(4, 4), stride=(2, 2), padding=(1, 1))\n",
       "  (l8): ConvTranspose2d(32, 3, kernel_size=(4, 4), stride=(2, 2), padding=(1, 1))\n",
       ")"
      ]
     },
     "execution_count": 6,
     "metadata": {},
     "output_type": "execute_result"
    }
   ],
   "source": [
    "vae = VAE()\n",
    "    \n",
    "vae.to(device)"
   ]
  },
  {
   "cell_type": "code",
   "execution_count": 7,
   "metadata": {},
   "outputs": [
    {
     "name": "stdout",
     "output_type": "stream",
     "text": [
      "----------------------------------------------------------------\n",
      "        Layer (type)               Output Shape         Param #\n",
      "================================================================\n",
      "            Conv2d-1           [-1, 32, 32, 32]           1,568\n",
      "       BatchNorm2d-2           [-1, 32, 32, 32]              64\n",
      "            Conv2d-3           [-1, 64, 16, 16]          32,832\n",
      "       BatchNorm2d-4           [-1, 64, 16, 16]             128\n",
      "            Conv2d-5            [-1, 128, 8, 8]         131,200\n",
      "       BatchNorm2d-6            [-1, 128, 8, 8]             256\n",
      "            Conv2d-7            [-1, 256, 4, 4]         524,544\n",
      "       BatchNorm2d-8            [-1, 256, 4, 4]             512\n",
      "            Linear-9                  [-1, 100]         409,700\n",
      "           Linear-10                  [-1, 100]         409,700\n",
      "           Linear-11                 [-1, 4096]         413,696\n",
      "  ConvTranspose2d-12            [-1, 128, 8, 8]         524,416\n",
      "  ConvTranspose2d-13           [-1, 64, 16, 16]         131,136\n",
      "  ConvTranspose2d-14           [-1, 32, 32, 32]          32,800\n",
      "  ConvTranspose2d-15            [-1, 3, 64, 64]           1,539\n",
      "================================================================\n",
      "Total params: 2,614,091\n",
      "Trainable params: 2,614,091\n",
      "Non-trainable params: 0\n",
      "----------------------------------------------------------------\n",
      "Input size (MB): 0.05\n",
      "Forward/backward pass size (MB): 1.50\n",
      "Params size (MB): 9.97\n",
      "Estimated Total Size (MB): 11.52\n",
      "----------------------------------------------------------------\n"
     ]
    }
   ],
   "source": [
    "summary(vae, (3, 64, 64))"
   ]
  },
  {
   "cell_type": "code",
   "execution_count": 8,
   "metadata": {},
   "outputs": [],
   "source": [
    "class VGG_model(nn.Module):\n",
    "    def __init__(self):\n",
    "        super(VGG_model, self).__init__()\n",
    "        self.model_layers = models.vgg.vgg19(pretrained=True).features\n",
    "        self.content_layers = [\"31\", \"33\", \"35\"]\n",
    "        \n",
    "        for parameter in self.model_layers.parameters():\n",
    "            parameter.requires_grad = False\n",
    "        \n",
    "    def forward(self, image):\n",
    "        batch_size = image.size(0)\n",
    "        output = image\n",
    "        output_layers = []\n",
    "        for name, module in self.model_layers.named_children():\n",
    "            output = module(output)\n",
    "            if name in self.content_layers:\n",
    "                output_layers.append(output.view(batch_size, -1))\n",
    "        return output_layers\n",
    "    \n",
    "    def feature_perceptual_loss(self, recon_x, x):\n",
    "        total_loss = 0\n",
    "        for x1, x2 in zip(recon_x, x):\n",
    "            total_loss += F.mse_loss(x1, x2)\n",
    "        return total_loss"
   ]
  },
  {
   "cell_type": "code",
   "execution_count": 9,
   "metadata": {},
   "outputs": [],
   "source": [
    "optimizer = optim.Adam(vae.parameters(), lr=0.0005)\n",
    "\n",
    "def loss_function(recon_x, x, mu, log_var, vgg_model):\n",
    "    \n",
    "    BCE = F.binary_cross_entropy(recon_x, x, reduction='sum')\n",
    "    #MSL = F.mse_loss(recon_x, x)\n",
    "    KLD = -0.5 * torch.sum(1 + log_var - mu.pow(2) - log_var.exp()) # KL Divergence from MIT 6.S191\n",
    "    #return (MSL + KLD)\n",
    "    \n",
    "    x_f = vgg_model(x)\n",
    "    recon_x_f = vgg_model(recon_x)\n",
    "    FPL = vgg_model.feature_perceptual_loss(recon_x_f, x_f)\n",
    "    \n",
    "    return (BCE + KLD + FPL)"
   ]
  },
  {
   "cell_type": "code",
   "execution_count": 10,
   "metadata": {},
   "outputs": [],
   "source": [
    "def train(epoch):\n",
    "    vae.train()\n",
    "    \n",
    "    vgg = VGG_model().to(device)\n",
    "\n",
    "    train_loss = 0\n",
    "    for batch_idx, (data, _) in enumerate(dataloader):\n",
    "        data = data.to(device)\n",
    "        optimizer.zero_grad()\n",
    "        \n",
    "        r_batch, mu, log_var = vae(data)\n",
    "\n",
    "        loss = loss_function(r_batch, data, mu, log_var, vgg)\n",
    "\n",
    "        loss.backward()\n",
    "        train_loss += loss.item()\n",
    "        optimizer.step()\n",
    "        if batch_idx%2500==0:\n",
    "            print(\"Batch no. finished in Epoch: \", batch_idx)\n",
    "    print(\"-------------------------------------------------\")\n",
    "    print('Epoch: {} Train mean loss: {:.8f}'.format(epoch, train_loss / len(dataloader.dataset)))\n",
    "    print(\"-------------------------------------------------\")\n",
    "    return train_loss"
   ]
  },
  {
   "cell_type": "code",
   "execution_count": 11,
   "metadata": {
    "scrolled": false
   },
   "outputs": [
    {
     "name": "stdout",
     "output_type": "stream",
     "text": [
      "Batch no. finished in Epoch:  0\n",
      "Batch no. finished in Epoch:  2500\n",
      "Batch no. finished in Epoch:  5000\n",
      "Batch no. finished in Epoch:  7500\n",
      "Batch no. finished in Epoch:  10000\n",
      "Batch no. finished in Epoch:  12500\n",
      "-------------------------------------------------\n",
      "Epoch: 1 Train mean loss: 6444.45138089\n",
      "-------------------------------------------------\n",
      "Batch no. finished in Epoch:  0\n",
      "Batch no. finished in Epoch:  2500\n",
      "Batch no. finished in Epoch:  5000\n",
      "Batch no. finished in Epoch:  7500\n",
      "Batch no. finished in Epoch:  10000\n",
      "Batch no. finished in Epoch:  12500\n",
      "-------------------------------------------------\n",
      "Epoch: 2 Train mean loss: 6341.52569205\n",
      "-------------------------------------------------\n",
      "Batch no. finished in Epoch:  0\n",
      "Batch no. finished in Epoch:  2500\n",
      "Batch no. finished in Epoch:  5000\n",
      "Batch no. finished in Epoch:  7500\n",
      "Batch no. finished in Epoch:  10000\n",
      "Batch no. finished in Epoch:  12500\n",
      "-------------------------------------------------\n",
      "Epoch: 3 Train mean loss: 6322.78354269\n",
      "-------------------------------------------------\n",
      "Batch no. finished in Epoch:  0\n",
      "Batch no. finished in Epoch:  2500\n",
      "Batch no. finished in Epoch:  5000\n",
      "Batch no. finished in Epoch:  7500\n",
      "Batch no. finished in Epoch:  10000\n",
      "Batch no. finished in Epoch:  12500\n",
      "-------------------------------------------------\n",
      "Epoch: 4 Train mean loss: 6313.98595671\n",
      "-------------------------------------------------\n",
      "Batch no. finished in Epoch:  0\n",
      "Batch no. finished in Epoch:  2500\n",
      "Batch no. finished in Epoch:  5000\n",
      "Batch no. finished in Epoch:  7500\n",
      "Batch no. finished in Epoch:  10000\n",
      "Batch no. finished in Epoch:  12500\n",
      "-------------------------------------------------\n",
      "Epoch: 5 Train mean loss: 6308.65873600\n",
      "-------------------------------------------------\n",
      "Batch no. finished in Epoch:  0\n",
      "Batch no. finished in Epoch:  2500\n",
      "Batch no. finished in Epoch:  5000\n",
      "Batch no. finished in Epoch:  7500\n",
      "Batch no. finished in Epoch:  10000\n",
      "Batch no. finished in Epoch:  12500\n",
      "-------------------------------------------------\n",
      "Epoch: 6 Train mean loss: 6304.80212494\n",
      "-------------------------------------------------\n",
      "Batch no. finished in Epoch:  0\n",
      "Batch no. finished in Epoch:  2500\n",
      "Batch no. finished in Epoch:  5000\n",
      "Batch no. finished in Epoch:  7500\n",
      "Batch no. finished in Epoch:  10000\n",
      "Batch no. finished in Epoch:  12500\n",
      "-------------------------------------------------\n",
      "Epoch: 7 Train mean loss: 6301.83484201\n",
      "-------------------------------------------------\n",
      "Batch no. finished in Epoch:  0\n",
      "Batch no. finished in Epoch:  2500\n",
      "Batch no. finished in Epoch:  5000\n",
      "Batch no. finished in Epoch:  7500\n",
      "Batch no. finished in Epoch:  10000\n",
      "Batch no. finished in Epoch:  12500\n",
      "-------------------------------------------------\n",
      "Epoch: 8 Train mean loss: 6299.52149335\n",
      "-------------------------------------------------\n"
     ]
    }
   ],
   "source": [
    "n_epoches = 8\n",
    "\n",
    "loss_hist = []\n",
    "\n",
    "for epoch in range(1, n_epoches+1):\n",
    "    loss_epoch = train(epoch)\n",
    "    loss_hist.append(loss_epoch)"
   ]
  },
  {
   "cell_type": "code",
   "execution_count": 15,
   "metadata": {},
   "outputs": [],
   "source": [
    "with torch.no_grad():\n",
    "    counter = 0\n",
    "    for i in range(100): \n",
    "        counter += 1\n",
    "        z = (torch.rand(100)*2).to(device)\n",
    "        sample = vae.decoder(z).to(device)\n",
    "        save_image(sample.view(3, 64, 64), './samplesFACES/sample' + str(counter) + '.png')"
   ]
  },
  {
   "cell_type": "code",
   "execution_count": 13,
   "metadata": {},
   "outputs": [],
   "source": [
    "torch.save(vae.state_dict(), \"./model_weight/wf.pt\")"
   ]
  },
  {
   "cell_type": "code",
   "execution_count": 14,
   "metadata": {},
   "outputs": [
    {
     "data": {
      "image/png": "[encoded data removed]",
      "text/plain": [
       "<Figure size 432x288 with 1 Axes>"
      ]
     },
     "metadata": {
      "needs_background": "light"
     },
     "output_type": "display_data"
    }
   ],
   "source": [
    "plt.plot(loss_hist)\n",
    "plt.xlabel(\"Epoch\")\n",
    "plt.ylabel(\"Loss\")\n",
    "plt.show()"
   ]
  },
  {
   "cell_type": "code",
   "execution_count": null,
   "metadata": {},
   "outputs": [],
   "source": []
  }
 ],
 "metadata": {
  "kernelspec": {
   "display_name": "Python 3",
   "language": "python",
   "name": "python3"
  },
  "language_info": {
   "codemirror_mode": {
    "name": "ipython",
    "version": 3
   },
   "file_extension": ".py",
   "mimetype": "text/x-python",
   "name": "python",
   "nbconvert_exporter": "python",
   "pygments_lexer": "ipython3",
   "version": "3.8.5"
  }
 },
 "nbformat": 4,
 "nbformat_minor": 4
}
