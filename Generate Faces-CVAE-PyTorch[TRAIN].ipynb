{
 "cells": [
  {
   "cell_type": "markdown",
   "metadata": {},
   "source": [
    "# Generating Faces with CVAE in PyTorch [TRAIN]"
   ]
  },
  {
   "cell_type": "code",
   "execution_count": 1,
   "metadata": {},
   "outputs": [],
   "source": [
    "import torch\n",
    "import torch.nn as nn\n",
    "import torch.nn.functional as F\n",
    "import torch.optim as optim\n",
    "from torch.autograd import Variable\n",
    "\n",
    "from torchvision import datasets, transforms, models\n",
    "import torchvision.transforms as transforms\n",
    "from torch.utils.data import Dataset, random_split, DataLoader\n",
    "from torchvision.utils import save_image\n",
    "\n",
    "from torchsummary import summary\n",
    "\n",
    "import numpy as np\n",
    "import pandas as pd\n",
    "import matplotlib.pyplot as plt\n",
    "\n",
    "import os\n",
    "import math\n",
    "from PIL import Image\n",
    "from IPython.display import display\n",
    "import glob"
   ]
  },
  {
   "cell_type": "code",
   "execution_count": 2,
   "metadata": {},
   "outputs": [
    {
     "name": "stdout",
     "output_type": "stream",
     "text": [
      "cuda\n"
     ]
    }
   ],
   "source": [
    "device = torch.device(\"cuda\" if torch.cuda.is_available() else \"cpu\")\n",
    "print(device)"
   ]
  },
  {
   "cell_type": "code",
   "execution_count": 3,
   "metadata": {},
   "outputs": [],
   "source": [
    "transformObj = transforms.Compose([\n",
    "    transforms.Resize(64),\n",
    "    transforms.CenterCrop(64),\n",
    "    transforms.ToTensor(),\n",
    "])"
   ]
  },
  {
   "cell_type": "code",
   "execution_count": 4,
   "metadata": {},
   "outputs": [],
   "source": [
    "dataroot = \"./celeba/\"\n",
    "\n",
    "dataset = datasets.ImageFolder(root=dataroot, transform=transformObj)\n",
    "\n",
    "dataloader = torch.utils.data.DataLoader(dataset, batch_size=16, shuffle=True)"
   ]
  },
  {
   "cell_type": "code",
   "execution_count": 5,
   "metadata": {},
   "outputs": [],
   "source": [
    "class VAE(nn.Module):\n",
    "    def __init__(self, latent_size=100):\n",
    "        super(VAE, self).__init__()\n",
    "        \n",
    "        self.latent_size = latent_size\n",
    "        \n",
    "        self.l1 = nn.Conv2d(in_channels=3, out_channels=32, kernel_size=4, stride=2, padding=1)\n",
    "        self.l1b = nn.BatchNorm2d(32)\n",
    "        self.l2 = nn.Conv2d(in_channels=32, out_channels=64, kernel_size=4, stride=2, padding=1)\n",
    "        self.l2b = nn.BatchNorm2d(64)\n",
    "        self.l3 = nn.Conv2d(in_channels=64, out_channels=128, kernel_size=4, stride=2, padding=1)\n",
    "        self.l3b = nn.BatchNorm2d(128)\n",
    "        self.l4 = nn.Conv2d(in_channels=128, out_channels=256, kernel_size=4, stride=2, padding=1)\n",
    "        self.l4b = nn.BatchNorm2d(256)\n",
    "        \n",
    "        self.l41 = nn.Linear(256*4*4, self.latent_size)\n",
    "        self.l42 = nn.Linear(256*4*4, self.latent_size)\n",
    "        \n",
    "        self.f = nn.Linear(self.latent_size, 256*4*4)\n",
    "        \n",
    "        self.l5 = nn.ConvTranspose2d(in_channels=256, out_channels=128, kernel_size=4, stride=2, padding=1)\n",
    "        self.l6 = nn.ConvTranspose2d(in_channels=128, out_channels=64, kernel_size=4, stride=2, padding=1)\n",
    "        self.l7 = nn.ConvTranspose2d(in_channels=64, out_channels=32, kernel_size=4, stride=2, padding=1)\n",
    "        self.l8 = nn.ConvTranspose2d(in_channels=32, out_channels=3, kernel_size=4, stride=2, padding=1)\n",
    "        \n",
    "    def encoder(self, x_in):\n",
    "        h = F.leaky_relu(self.l1b(self.l1(x_in)))\n",
    "        h = F.leaky_relu(self.l2b(self.l2(h)))\n",
    "        h = F.leaky_relu(self.l3b(self.l3(h)))\n",
    "        h = F.leaky_relu(self.l4b(self.l4(h)))\n",
    "        \n",
    "        h = h.view(h.size(0), -1)\n",
    "        \n",
    "        return self.l41(h), self.l42(h)\n",
    "    \n",
    "    def decoder(self, z):\n",
    "        z = self.f(z)\n",
    "        z = z.view(-1, 256, 4, 4)\n",
    "        \n",
    "        z = F.leaky_relu(self.l5(z))\n",
    "        z = F.leaky_relu(self.l6(z))\n",
    "        z = F.leaky_relu(self.l7(z))\n",
    "        z = torch.sigmoid(self.l8(z))\n",
    "        \n",
    "        return z\n",
    "    \n",
    "    def sampling(self, mu, log_var):\n",
    "        std = torch.exp(0.5*log_var)\n",
    "        eps = torch.randn_like(std)\n",
    "        return torch.add(eps.mul(std), mu)\n",
    "    \n",
    "    def forward(self, x_in):\n",
    "        mu, log_var = self.encoder(x_in)\n",
    "        z = self.sampling(mu, log_var)\n",
    "        return self.decoder(z), mu, log_var"
   ]
  },
  {
   "cell_type": "code",
   "execution_count": 6,
   "metadata": {},
   "outputs": [
    {
     "data": {
      "text/plain": [
       "VAE(\n",
       "  (l1): Conv2d(3, 32, kernel_size=(4, 4), stride=(2, 2), padding=(1, 1))\n",
       "  (l1b): BatchNorm2d(32, eps=1e-05, momentum=0.1, affine=True, track_running_stats=True)\n",
       "  (l2): Conv2d(32, 64, kernel_size=(4, 4), stride=(2, 2), padding=(1, 1))\n",
       "  (l2b): BatchNorm2d(64, eps=1e-05, momentum=0.1, affine=True, track_running_stats=True)\n",
       "  (l3): Conv2d(64, 128, kernel_size=(4, 4), stride=(2, 2), padding=(1, 1))\n",
       "  (l3b): BatchNorm2d(128, eps=1e-05, momentum=0.1, affine=True, track_running_stats=True)\n",
       "  (l4): Conv2d(128, 256, kernel_size=(4, 4), stride=(2, 2), padding=(1, 1))\n",
       "  (l4b): BatchNorm2d(256, eps=1e-05, momentum=0.1, affine=True, track_running_stats=True)\n",
       "  (l41): Linear(in_features=4096, out_features=100, bias=True)\n",
       "  (l42): Linear(in_features=4096, out_features=100, bias=True)\n",
       "  (f): Linear(in_features=100, out_features=4096, bias=True)\n",
       "  (l5): ConvTranspose2d(256, 128, kernel_size=(4, 4), stride=(2, 2), padding=(1, 1))\n",
       "  (l6): ConvTranspose2d(128, 64, kernel_size=(4, 4), stride=(2, 2), padding=(1, 1))\n",
       "  (l7): ConvTranspose2d(64, 32, kernel_size=(4, 4), stride=(2, 2), padding=(1, 1))\n",
       "  (l8): ConvTranspose2d(32, 3, kernel_size=(4, 4), stride=(2, 2), padding=(1, 1))\n",
       ")"
      ]
     },
     "execution_count": 6,
     "metadata": {},
     "output_type": "execute_result"
    }
   ],
   "source": [
    "vae = VAE()\n",
    "    \n",
    "vae.to(device)"
   ]
  },
  {
   "cell_type": "code",
   "execution_count": 7,
   "metadata": {},
   "outputs": [
    {
     "name": "stdout",
     "output_type": "stream",
     "text": [
      "----------------------------------------------------------------\n",
      "        Layer (type)               Output Shape         Param #\n",
      "================================================================\n",
      "            Conv2d-1           [-1, 32, 32, 32]           1,568\n",
      "       BatchNorm2d-2           [-1, 32, 32, 32]              64\n",
      "            Conv2d-3           [-1, 64, 16, 16]          32,832\n",
      "       BatchNorm2d-4           [-1, 64, 16, 16]             128\n",
      "            Conv2d-5            [-1, 128, 8, 8]         131,200\n",
      "       BatchNorm2d-6            [-1, 128, 8, 8]             256\n",
      "            Conv2d-7            [-1, 256, 4, 4]         524,544\n",
      "       BatchNorm2d-8            [-1, 256, 4, 4]             512\n",
      "            Linear-9                  [-1, 100]         409,700\n",
      "           Linear-10                  [-1, 100]         409,700\n",
      "           Linear-11                 [-1, 4096]         413,696\n",
      "  ConvTranspose2d-12            [-1, 128, 8, 8]         524,416\n",
      "  ConvTranspose2d-13           [-1, 64, 16, 16]         131,136\n",
      "  ConvTranspose2d-14           [-1, 32, 32, 32]          32,800\n",
      "  ConvTranspose2d-15            [-1, 3, 64, 64]           1,539\n",
      "================================================================\n",
      "Total params: 2,614,091\n",
      "Trainable params: 2,614,091\n",
      "Non-trainable params: 0\n",
      "----------------------------------------------------------------\n",
      "Input size (MB): 0.05\n",
      "Forward/backward pass size (MB): 1.50\n",
      "Params size (MB): 9.97\n",
      "Estimated Total Size (MB): 11.52\n",
      "----------------------------------------------------------------\n"
     ]
    }
   ],
   "source": [
    "summary(vae, (3, 64, 64))"
   ]
  },
  {
   "cell_type": "code",
   "execution_count": 8,
   "metadata": {},
   "outputs": [],
   "source": [
    "class VGG_model(nn.Module):\n",
    "    def __init__(self):\n",
    "        super(VGG_model, self).__init__()\n",
    "        self.model_layers = models.vgg.vgg19(pretrained=True).features\n",
    "        self.content_layers = [\"31\", \"33\", \"35\"]\n",
    "        \n",
    "        for parameter in self.model_layers.parameters():\n",
    "            parameter.requires_grad = False\n",
    "        \n",
    "    def forward(self, image):\n",
    "        batch_size = image.size(0)\n",
    "        output = image\n",
    "        output_layers = []\n",
    "        for name, module in self.model_layers.named_children():\n",
    "            output = module(output)\n",
    "            if name in self.content_layers:\n",
    "                output_layers.append(output.view(batch_size, -1))\n",
    "        return output_layers\n",
    "    \n",
    "    def feature_perceptual_loss(self, recon_x, x):\n",
    "        total_loss = 0\n",
    "        for x1, x2 in zip(recon_x, x):\n",
    "            total_loss += F.mse_loss(x1, x2)\n",
    "        return total_loss"
   ]
  },
  {
   "cell_type": "code",
   "execution_count": 9,
   "metadata": {},
   "outputs": [],
   "source": [
    "optimizer = optim.Adam(vae.parameters(), lr=0.0005)\n",
    "\n",
    "def loss_function(recon_x, x, mu, log_var, vgg_model):\n",
    "    \n",
    "    BCE = F.binary_cross_entropy(recon_x, x, reduction='sum')\n",
    "    #MSL = F.mse_loss(recon_x, x)\n",
    "    KLD = -0.5 * torch.sum(1 + log_var - mu.pow(2) - log_var.exp()) # KL Divergence from MIT 6.S191\n",
    "    #return (MSL + KLD)\n",
    "    \n",
    "    x_f = vgg_model(x)\n",
    "    recon_x_f = vgg_model(recon_x)\n",
    "    FPL = vgg_model.feature_perceptual_loss(recon_x_f, x_f)\n",
    "    \n",
    "    return (BCE + KLD + FPL)"
   ]
  },
  {
   "cell_type": "code",
   "execution_count": 10,
   "metadata": {},
   "outputs": [],
   "source": [
    "def train(epoch):\n",
    "    vae.train()\n",
    "    \n",
    "    vgg = VGG_model().to(device)\n",
    "\n",
    "    train_loss = 0\n",
    "    for batch_idx, (data, _) in enumerate(dataloader):\n",
    "        data = data.to(device)\n",
    "        optimizer.zero_grad()\n",
    "        \n",
    "        r_batch, mu, log_var = vae(data)\n",
    "\n",
    "        loss = loss_function(r_batch, data, mu, log_var, vgg)\n",
    "\n",
    "        loss.backward()\n",
    "        train_loss += loss.item()\n",
    "        optimizer.step()\n",
    "        if batch_idx%2500==0:\n",
    "            print(\"Batch no. finished in Epoch: \", batch_idx)\n",
    "\n",
    "    print('Epoch: {} Train mean loss: {:.8f}'.format(epoch, train_loss / len(dataloader.dataset)))\n",
    "    return train_loss"
   ]
  },
  {
   "cell_type": "code",
   "execution_count": 11,
   "metadata": {
    "scrolled": false
   },
   "outputs": [
    {
     "name": "stdout",
     "output_type": "stream",
     "text": [
      "Batch no. finished in Epoch:  0\n",
      "Batch no. finished in Epoch:  100\n",
      "Batch no. finished in Epoch:  200\n",
      "Batch no. finished in Epoch:  300\n",
      "Batch no. finished in Epoch:  400\n",
      "Batch no. finished in Epoch:  500\n",
      "Batch no. finished in Epoch:  600\n",
      "Batch no. finished in Epoch:  700\n",
      "Batch no. finished in Epoch:  800\n",
      "Batch no. finished in Epoch:  900\n",
      "Batch no. finished in Epoch:  1000\n",
      "Batch no. finished in Epoch:  1100\n",
      "Batch no. finished in Epoch:  1200\n",
      "Batch no. finished in Epoch:  1300\n",
      "Batch no. finished in Epoch:  1400\n",
      "Batch no. finished in Epoch:  1500\n",
      "Batch no. finished in Epoch:  1600\n",
      "Batch no. finished in Epoch:  1700\n",
      "Batch no. finished in Epoch:  1800\n",
      "Batch no. finished in Epoch:  1900\n",
      "Batch no. finished in Epoch:  2000\n",
      "Batch no. finished in Epoch:  2100\n",
      "Batch no. finished in Epoch:  2200\n",
      "Batch no. finished in Epoch:  2300\n",
      "Batch no. finished in Epoch:  2400\n",
      "Batch no. finished in Epoch:  2500\n",
      "Batch no. finished in Epoch:  2600\n",
      "Batch no. finished in Epoch:  2700\n",
      "Batch no. finished in Epoch:  2800\n",
      "Batch no. finished in Epoch:  2900\n",
      "Batch no. finished in Epoch:  3000\n",
      "Batch no. finished in Epoch:  3100\n",
      "Batch no. finished in Epoch:  3200\n",
      "Batch no. finished in Epoch:  3300\n",
      "Batch no. finished in Epoch:  3400\n",
      "Batch no. finished in Epoch:  3500\n",
      "Batch no. finished in Epoch:  3600\n",
      "Batch no. finished in Epoch:  3700\n",
      "Batch no. finished in Epoch:  3800\n",
      "Batch no. finished in Epoch:  3900\n",
      "Batch no. finished in Epoch:  4000\n",
      "Batch no. finished in Epoch:  4100\n",
      "Batch no. finished in Epoch:  4200\n",
      "Batch no. finished in Epoch:  4300\n",
      "Batch no. finished in Epoch:  4400\n",
      "Batch no. finished in Epoch:  4500\n",
      "Batch no. finished in Epoch:  4600\n",
      "Batch no. finished in Epoch:  4700\n",
      "Batch no. finished in Epoch:  4800\n",
      "Batch no. finished in Epoch:  4900\n",
      "Batch no. finished in Epoch:  5000\n",
      "Batch no. finished in Epoch:  5100\n",
      "Batch no. finished in Epoch:  5200\n",
      "Batch no. finished in Epoch:  5300\n",
      "Batch no. finished in Epoch:  5400\n",
      "Batch no. finished in Epoch:  5500\n",
      "Batch no. finished in Epoch:  5600\n",
      "Batch no. finished in Epoch:  5700\n",
      "Batch no. finished in Epoch:  5800\n",
      "Batch no. finished in Epoch:  5900\n",
      "Batch no. finished in Epoch:  6000\n",
      "Batch no. finished in Epoch:  6100\n",
      "Batch no. finished in Epoch:  6200\n",
      "Batch no. finished in Epoch:  6300\n",
      "Batch no. finished in Epoch:  6400\n",
      "Batch no. finished in Epoch:  6500\n",
      "Batch no. finished in Epoch:  6600\n",
      "Batch no. finished in Epoch:  6700\n",
      "Batch no. finished in Epoch:  6800\n",
      "Batch no. finished in Epoch:  6900\n",
      "Batch no. finished in Epoch:  7000\n",
      "Batch no. finished in Epoch:  7100\n",
      "Batch no. finished in Epoch:  7200\n",
      "Batch no. finished in Epoch:  7300\n",
      "Batch no. finished in Epoch:  7400\n",
      "Batch no. finished in Epoch:  7500\n",
      "Batch no. finished in Epoch:  7600\n",
      "Batch no. finished in Epoch:  7700\n",
      "Batch no. finished in Epoch:  7800\n",
      "Batch no. finished in Epoch:  7900\n",
      "Batch no. finished in Epoch:  8000\n",
      "Batch no. finished in Epoch:  8100\n",
      "Batch no. finished in Epoch:  8200\n",
      "Batch no. finished in Epoch:  8300\n",
      "Batch no. finished in Epoch:  8400\n",
      "Batch no. finished in Epoch:  8500\n",
      "Batch no. finished in Epoch:  8600\n",
      "Batch no. finished in Epoch:  8700\n",
      "Batch no. finished in Epoch:  8800\n",
      "Batch no. finished in Epoch:  8900\n",
      "Batch no. finished in Epoch:  9000\n",
      "Batch no. finished in Epoch:  9100\n",
      "Batch no. finished in Epoch:  9200\n",
      "Batch no. finished in Epoch:  9300\n",
      "Batch no. finished in Epoch:  9400\n",
      "Batch no. finished in Epoch:  9500\n",
      "Batch no. finished in Epoch:  9600\n",
      "Batch no. finished in Epoch:  9700\n",
      "Batch no. finished in Epoch:  9800\n",
      "Batch no. finished in Epoch:  9900\n",
      "Batch no. finished in Epoch:  10000\n",
      "Batch no. finished in Epoch:  10100\n",
      "Batch no. finished in Epoch:  10200\n",
      "Batch no. finished in Epoch:  10300\n",
      "Batch no. finished in Epoch:  10400\n",
      "Batch no. finished in Epoch:  10500\n",
      "Batch no. finished in Epoch:  10600\n",
      "Batch no. finished in Epoch:  10700\n",
      "Batch no. finished in Epoch:  10800\n",
      "Batch no. finished in Epoch:  10900\n",
      "Batch no. finished in Epoch:  11000\n",
      "Batch no. finished in Epoch:  11100\n",
      "Batch no. finished in Epoch:  11200\n",
      "Batch no. finished in Epoch:  11300\n",
      "Batch no. finished in Epoch:  11400\n",
      "Batch no. finished in Epoch:  11500\n",
      "Batch no. finished in Epoch:  11600\n",
      "Batch no. finished in Epoch:  11700\n",
      "Batch no. finished in Epoch:  11800\n",
      "Batch no. finished in Epoch:  11900\n",
      "Batch no. finished in Epoch:  12000\n",
      "Batch no. finished in Epoch:  12100\n",
      "Batch no. finished in Epoch:  12200\n",
      "Batch no. finished in Epoch:  12300\n",
      "Batch no. finished in Epoch:  12400\n",
      "Batch no. finished in Epoch:  12500\n",
      "Batch no. finished in Epoch:  12600\n",
      "Epoch: 1 Train mean loss: 6440.46855133\n"
     ]
    }
   ],
   "source": [
    "n_epoches = 1\n",
    "\n",
    "loss_hist = []\n",
    "\n",
    "for epoch in range(1, n_epoches+1):\n",
    "    loss_epoch = train(epoch)\n",
    "    loss_hist.append(loss_epoch)"
   ]
  },
  {
   "cell_type": "code",
   "execution_count": 12,
   "metadata": {},
   "outputs": [],
   "source": [
    "with torch.no_grad():\n",
    "    counter = 0\n",
    "    for i in range(100): \n",
    "        counter += 1\n",
    "        z = (torch.rand(100)*256).to(device)\n",
    "        sample = vae.decoder(z).to(device)\n",
    "        save_image(sample.view(3, 64, 64), './samplesFACES/sample' + str(counter) + '.png')"
   ]
  },
  {
   "cell_type": "code",
   "execution_count": 13,
   "metadata": {},
   "outputs": [],
   "source": [
    "torch.save(vae.state_dict(), \"./model_weight/wf.pt\")"
   ]
  },
  {
   "cell_type": "code",
   "execution_count": 14,
   "metadata": {},
   "outputs": [
    {
     "data": {
      "image/png": "[encoded data removed]",
      "text/plain": [
       "<Figure size 432x288 with 1 Axes>"
      ]
     },
     "metadata": {
      "needs_background": "light"
     },
     "output_type": "display_data"
    }
   ],
   "source": [
    "plt.plot(loss_hist)\n",
    "plt.xlabel(\"Epoch\")\n",
    "plt.ylabel(\"Loss\")\n",
    "plt.show()"
   ]
  },
  {
   "cell_type": "code",
   "execution_count": null,
   "metadata": {},
   "outputs": [],
   "source": []
  }
 ],
 "metadata": {
  "kernelspec": {
   "display_name": "Python 3",
   "language": "python",
   "name": "python3"
  },
  "language_info": {
   "codemirror_mode": {
    "name": "ipython",
    "version": 3
   },
   "file_extension": ".py",
   "mimetype": "text/x-python",
   "name": "python",
   "nbconvert_exporter": "python",
   "pygments_lexer": "ipython3",
   "version": "3.8.5"
  }
 },
 "nbformat": 4,
 "nbformat_minor": 4
}
